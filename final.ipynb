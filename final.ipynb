{
 "metadata": {
  "language_info": {
   "codemirror_mode": {
    "name": "ipython",
    "version": 3
   },
   "file_extension": ".py",
   "mimetype": "text/x-python",
   "name": "python",
   "nbconvert_exporter": "python",
   "pygments_lexer": "ipython3",
   "version": 3
  },
  "orig_nbformat": 2
 },
 "nbformat": 4,
 "nbformat_minor": 2,
 "cells": [
  {
   "cell_type": "code",
   "execution_count": null,
   "metadata": {},
   "outputs": [],
   "source": [
    "import pandas as pd\n",
    "import numpy as np\n",
    "import seaborn as sns\n",
    "import matplotlib.pyplot as plt\n",
    "import seaborn as sns\n",
    "import sys \n",
    "import pandas_profiling\n",
    "from sympy import latex\n",
    "from sklearn.linear_model import LinearRegression\n",
    "sns.set()"
   ]
  },
  {
   "cell_type": "code",
   "execution_count": null,
   "metadata": {},
   "outputs": [],
   "source": [
    "nut = pd.read_csv('nutrition.csv', index_col=1) #nut :)\n",
    "# Sirve pero tarda un vergo, por eso lo comento nut.profile_report()\n",
    "print(f'Dataframe of size {nut.shape[0]} and {nut.shape[1]}')"
   ]
  },
  {
   "cell_type": "code",
   "execution_count": null,
   "metadata": {},
   "outputs": [],
   "source": [
    "newnut = nut.dropna()\n",
    "newnut2 = newnut[['calories','total_fat','carbohydrate','sodium','protein']]\n",
    "newnut2"
   ]
  },
  {
   "cell_type": "code",
   "execution_count": null,
   "metadata": {},
   "outputs": [],
   "source": [
    "newnut2['sodium'] = newnut2['sodium'].str.rstrip('mg').astype('float')\n",
    "newnut2['total_fat'] = newnut2['total_fat'].str.rstrip('g').astype('float')\n",
    "newnut2['carbohydrate'] = newnut2['carbohydrate'].str.rstrip('g').astype('float')\n",
    "newnut2['protein'] = newnut2['protein'].str.rstrip('g').astype('float')\n",
    "newnut2['sodium'] = newnut2['sodium']/1000\n",
    "newnut2"
   ]
  },
  {
   "cell_type": "code",
   "execution_count": null,
   "metadata": {},
   "outputs": [],
   "source": [
    "nut_nuts = newnut2.loc[['Nuts, pecans']]\n",
    "nut_ramen = newnut2.loc[['Soup, dry, beef flavor, ramen noodle']]\n",
    "nut_teff = newnut2.loc[['Teff, uncooked']]\n",
    "nut_sherbet = newnut2.loc[['Sherbet, orange']]\n",
    "\n",
    "newnut3 = newnut2.loc[['Nuts, pecans','Soup, dry, beef flavor, ramen noodle','Teff, uncooked','Sherbet, orange']]"
   ]
  },
  {
   "cell_type": "code",
   "execution_count": null,
   "metadata": {},
   "outputs": [],
   "source": [
    "fig, axes = plt.subplots(3, 2, figsize=(20, 20), sharex=False)\n",
    "\n",
    "fig.suptitle('Plot of 4', y=0.9, fontsize=20)\n",
    "\n",
    "sns.histplot(newnut2[\"calories\"], color=\"skyblue\", stat='count', bins=100, ax=axes[0, 0])\n",
    "sns.histplot(newnut2[\"total_fat\"], color=\"olive\", stat='count', bins=100, ax=axes[0, 1])\n",
    "sns.histplot(newnut2[\"carbohydrate\"], color=\"gold\", stat='count', bins=100, ax=axes[1, 0])\n",
    "sns.histplot(newnut2[\"sodium\"], color=\"teal\", stat='count', bins=100,ax=axes[1, 1])\n",
    "sns.histplot(newnut2[\"protein\"], color=\"blue\", stat='count', bins=100,ax=axes[2, 0])\n",
    "fig.delaxes(axes[2,1])"
   ]
  },
  {
   "cell_type": "code",
   "execution_count": null,
   "metadata": {},
   "outputs": [],
   "source": [
    "f, axes = plt.subplots(nrows=3, ncols=2, figsize=(26,18))\n",
    "\n",
    "f.suptitle('Boxplots of Fat, Sodium, Protein, Carbohydrates and Calories', y=0.9, fontsize=20)\n",
    "sns.boxplot(x=newnut2['calories'], color=\"skyblue\", ax=axes[0, 0])\n",
    "sns.boxplot(x=newnut2['total_fat'], color=\"olive\", ax=axes[0, 1])\n",
    "sns.boxplot(x=newnut2['carbohydrate'], color=\"gold\", ax=axes[1, 0])\n",
    "sns.boxplot(x=newnut2['sodium'], color=\"teal\", ax=axes[1, 1])\n",
    "sns.boxplot(x=newnut2['protein'], color=\"blue\", ax=axes[2, 0])\n",
    "\n",
    "f.delaxes(axes[2,1])"
   ]
  },
  {
   "cell_type": "code",
   "execution_count": null,
   "metadata": {},
   "outputs": [],
   "source": [
    "newnut3 = newnut2\n",
    "\n",
    "X = newnut3[['total_fat', 'carbohydrate', 'sodium', 'protein']] \n",
    "Y = newnut3['calories']\n",
    "\n",
    "# with sklearn\n",
    "regressionname = LinearRegression()\n",
    "regressionname.fit(X, Y)\n",
    "\n",
    "print('Intercept: \\n', regressionname.intercept_)\n",
    "print('Coefficients: \\n', regressionname.coef_)"
   ]
  }
 ]
}