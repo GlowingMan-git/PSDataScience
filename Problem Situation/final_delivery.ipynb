{
 "metadata": {
  "language_info": {
   "codemirror_mode": {
    "name": "ipython",
    "version": 3
   },
   "file_extension": ".py",
   "mimetype": "text/x-python",
   "name": "python",
   "nbconvert_exporter": "python",
   "pygments_lexer": "ipython3",
   "version": 3
  },
  "orig_nbformat": 2
 },
 "nbformat": 4,
 "nbformat_minor": 2,
 "cells": [
  {
   "source": [
    "# Obesity and health issues: how the food we eat influences health conditions in society\n",
    "### Erick Alcalá (A01025213@itesm.mx), Emiliano Cabrera (A01025453@itesm.mx), Andrew Dunkerley (e-mail), Do Hyun Nam (A01025276@itesm.mx)\n",
    "Professor: Saúl Juárez Ordóñez\n",
    "Tecnologico de Monterrey, School of Engineering and Sciences, Sciences Department\n",
    "Av. Carlos Lazo 100, Santa Fe, 01389, Mexico City, Mexico"
   ],
   "cell_type": "markdown",
   "metadata": {}
  },
  {
   "source": [
    "## Abstract\n",
    "[Abstract chingon]\n",
    "\n",
    "Keywords: `Linear Regression` `Health` `Nutrition` `Calories`\n",
    "\n"
   ],
   "cell_type": "markdown",
   "metadata": {}
  },
  {
   "source": [
    "## 1. Introduction\n",
    "[Insert intro chingon]\n"
   ],
   "cell_type": "markdown",
   "metadata": {}
  },
  {
   "source": [
    "## 2. Theoretical Framework\n",
    "\n",
    "Mexico is facing multiple epidemics at the same time, the one that arrived this year, COVID-19, and two that have been affecting the country for a lot of years, obesity and overweight. According to the ENSANUT, 72.7% of female adults are overweight or obese, while in male adults the percentage is 69.4%. The COVID-19 pandemic has put this situation in the spotlight once again, since according to the General Epidemiologist Directorate, of the 105,459 COVID-19 deaths, 33.77% are obesity related, 45.54% and 38.57% are related to diabetes and hypertension, which are direct consequences of obesity and overweightness. Therefore, the government is now, more than ever, searching for ways to tackle this problem.\n"
   ],
   "cell_type": "markdown",
   "metadata": {}
  },
  {
   "source": [
    "### 2.1. Public policies\n",
    "Public policies, at the federal and state level, are being analyzed and voted upon in the different levels of government in the country. Two of them stand out, the first one being the new nutritional labeling in the pre-packed products, this new labeling included octagonal stickers with a warning of  “High in sodium”, “High in sugar”, among others. Despite the fact that this change was approved by the chamber of deputies last year, it was enforced on the 1st of October of this year. The policy had a lot of critics, saying that yet again the government was ignoring the main fact of why obesity and overweight are so rampant in Mexico, and that is poverty. (Aguirre, 2019)\n",
    "\n",
    "\n",
    "The Second public policy that stands out, was one approved in the southern state of Oaxaca. The new law prohibits the distribution, sale, supply or gift of junk food and sugary drinks to underage kids. This law was debated for one year, but the current pandemic and its effects on public health were the perfect final argument to approve the law. The law was praised by the UN and UNICEF, but it was criticized by business organizations, alleging it would be a huge blow for the economy of the state. (Galván, 2020) The government is hurting the small and big business in a moment where they need all the help they can get, even more in a state where poverty is rampant and small businesses are family owned and more at risk of closing. Is it okay to affect hundreds of families and businesses to try to tackle obesity and overweight in children? That would depend on everyone’s ethics and morals."
   ],
   "cell_type": "markdown",
   "metadata": {}
  },
  {
   "source": [
    "### 2.2. Technological tools\n",
    "Technology is something important that the government is forgetting to use. We live in a new era, an era of technological advancements. The tools to create new codes to help the rampant obesity and overweight problem are within reach, codes to provide new information for the consumers about nutrition facts of what they are consuming, to predict their caloric load to help the consumer make the right choice of what to eat. That is precisely what the code in this project makes. "
   ],
   "cell_type": "markdown",
   "metadata": {}
  },
  {
   "source": [
    "## 3. Analysis and results\n",
    "\n",
    "Using Python's Numpy, Pandas, and Scikit modules we were able to analyse a nutritional facts database from various food items. Matplotlib and Seaborn modules were used to visualize our data. Then using a linear regression prediction model, we could make a revision on whether our model was designed correctly and identify biases and flaws from the testing."
   ],
   "cell_type": "markdown",
   "metadata": {}
  },
  {
   "cell_type": "code",
   "execution_count": null,
   "metadata": {},
   "outputs": [],
   "source": [
    "# Importing the necessary modules for the analysis\n",
    "import pandas as pd\n",
    "import numpy as np\n",
    "import seaborn as sns\n",
    "import matplotlib.pyplot as plt\n",
    "import seaborn as sns\n",
    "import sys \n",
    "import pandas_profiling\n",
    "sns.set()\n",
    "from sympy import latex"
   ]
  },
  {
   "cell_type": "code",
   "execution_count": null,
   "metadata": {},
   "outputs": [],
   "source": [
    "# Creating dataframe from the data parsed from the database in a .csv format\n",
    "nut = pd.read_csv('nutrition.csv', index_col=1) # Dataframe named nut as an abbreviation of nutrition\n",
    "print(f'Dataframe of size {nut.shape[0]} and {nut.shape[1]}')\n",
    "#nut.profile_report() # Returns a summary of the dataframe's characteristics, it appears commented due to it being slow\n",
    "\n",
    "# Usinf the dropna method, we clean data with undefined values\n",
    "newnut = nut.dropna()\n",
    "# Filter dataframe leaving just the columns of interest for this research\n",
    "newnut2 = newnut[['calories','total_fat','carbohydrate','sodium','protein']]\n",
    "\n",
    "# Converting all data to a unified unit, being the gram (g)\n",
    "newnut2['sodium'] = newnut2['sodium'].str.rstrip('mg').astype('float')\n",
    "newnut2['total_fat'] = newnut2['total_fat'].str.rstrip('g').astype('float')\n",
    "newnut2['carbohydrate'] = newnut2['carbohydrate'].str.rstrip('g').astype('float')\n",
    "newnut2['protein'] = newnut2['protein'].str.rstrip('g').astype('float')\n",
    "newnut2['sodium'] = newnut2['sodium']/1000\n",
    "# Newnut2 corresponds to the filtered and cleaned nut dataframe\n",
    "\n",
    "# Creating test samples of four different kinds of food\n",
    "nut_nuts = newnut2.loc[['Nuts, pecans']]\n",
    "nut_ramen = newnut2.loc[['Soup, dry, beef flavor, ramen noodle']]\n",
    "nut_teff = newnut2.loc[['Teff, uncooked']]\n",
    "nut_sherbet = newnut2.loc[['Sherbet, orange']]\n",
    "newnut3 = newnut2.loc[['Nuts, pecans','Soup, dry, beef flavor, ramen noodle','Teff, uncooked','Sherbet, orange']]\n"
   ]
  },
  {
   "cell_type": "code",
   "execution_count": null,
   "metadata": {},
   "outputs": [],
   "source": [
    "#%% Plotting the histogram relevant to each factor of analysis\n",
    "fig, axes = plt.subplots(3, 2, figsize=(20, 20), sharex=False)\n",
    "\n",
    "fig.suptitle('Plot of 4 factors', y=0.9, fontsize=20)\n",
    "\n",
    "sns.histplot(newnut2[\"calories\"], color=\"skyblue\", stat='count', bins=100, ax=axes[0, 0])\n",
    "sns.histplot(newnut2[\"total_fat\"], color=\"olive\", stat='count', bins=100, ax=axes[0, 1])\n",
    "sns.histplot(newnut2[\"carbohydrate\"], color=\"gold\", stat='count', bins=100, ax=axes[1, 0])\n",
    "sns.histplot(newnut2[\"sodium\"], color=\"teal\", stat='count', bins=100,ax=axes[1, 1])\n",
    "sns.histplot(newnut2[\"protein\"], color=\"blue\", stat='count', bins=100,ax=axes[2, 0])\n",
    "fig.delaxes(axes[2,1])"
   ]
  },
  {
   "cell_type": "code",
   "execution_count": null,
   "metadata": {},
   "outputs": [],
   "source": [
    "# Plotting a boxplot that helps with the visualization of central tendencies\n",
    "f, axes = plt.subplots(nrows=3, ncols=2, figsize=(26,18))\n",
    "\n",
    "f.suptitle('Boxplots of Fat, Sodium, Protein, Carbohydrates and Calories', y=0.9, fontsize=20)\n",
    "sns.boxplot(x=newnut2['calories'], color=\"skyblue\", ax=axes[0, 0])\n",
    "sns.boxplot(x=newnut2['total_fat'], color=\"olive\", ax=axes[0, 1])\n",
    "sns.boxplot(x=newnut2['carbohydrate'], color=\"gold\", ax=axes[1, 0])\n",
    "sns.boxplot(x=newnut2['sodium'], color=\"teal\", ax=axes[1, 1])\n",
    "sns.boxplot(x=newnut2['protein'], color=\"blue\", ax=axes[2, 0])\n",
    "\n",
    "f.delaxes(axes[2,1])"
   ]
  },
  {
   "cell_type": "code",
   "execution_count": null,
   "metadata": {},
   "outputs": [],
   "source": [
    "\n",
    "# Filters outliers\n",
    "Q1 = newnut2.quantile(0.25)\n",
    "Q3 = newnut2.quantile(0.75)\n",
    "IQR = Q3 - Q1\n",
    "\n",
    "# Finalnut dataframe stores the dataframe with removed outliers\n",
    "finalnut = newnut2[~((newnut2 < (Q1 - 2.5 * IQR)) |(10000 > (Q3 + 2.5 * IQR))).any(axis=1)]\n",
    "\n",
    "# Calsulates number of data points reduced\n",
    "len_after = len(finalnut)\n",
    "len_before = len(newnut2)\n",
    "len_difference = len(newnut2) - len(finalnut)\n",
    "print('We reduced our data size from {} foods by {} foods to {} foods.'.format(len_before, len_difference, len_after))\n"
   ]
  },
  {
   "cell_type": "code",
   "execution_count": null,
   "metadata": {},
   "outputs": [],
   "source": [
    "#%% Linear fit\n",
    "newnut3 = newnut2\n",
    "\n",
    "from sklearn.linear_model import LinearRegression\n",
    "\n",
    "X = newnut3[['total_fat', 'carbohydrate', 'sodium', 'protein']] \n",
    "Y = newnut3['calories']\n",
    "\n",
    "# Using the Scikit.learn module, we obtain a linear regression model\n",
    "calories_prediction = LinearRegression()\n",
    "calories_prediction.fit(X, Y)\n",
    "\n",
    "print('Intercept: \\n', regressionname.intercept_)\n",
    "print('Coefficients: \\n', regressionname.coef_)"
   ]
  },
  {
   "source": [
    "### Testing with four different foods eating in our daily life."
   ],
   "cell_type": "markdown",
   "metadata": {}
  },
  {
   "cell_type": "code",
   "execution_count": null,
   "metadata": {},
   "outputs": [],
   "source": [
    "fat = 3.9\n",
    "sod =0.42\n",
    "prot = 4.6\n",
    "carbo = 24\n",
    "print ('Number of calories: \\n', regressionname.predict([[fat, sod, prot, carbo]]))"
   ]
  }
 ]
}