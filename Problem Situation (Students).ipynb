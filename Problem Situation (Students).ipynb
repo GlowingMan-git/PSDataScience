{
 "cells": [
  {
   "cell_type": "markdown",
   "metadata": {},
   "source": [
    "<font face=\"times new roman\" size=\"3\" color=\"black\">\n",
    "    <div align=\"center\">\n",
    "        <h1>Title</h1>\n",
    "            <h3>Author 1 (e-mail), Author 2 (e-mail), Author 3 (e-mail), Author 4 (e-mail), Author 5 (e-mail)</h3>\n",
    "            <h3> Professor: Saúl Juárez Ordóñez</h3>\n",
    "            <h3>Tecnologico de Monterrey, School of Engineering and Sciences, Sciences Department<br>Av. Carlos Lazo 100, Santa Fe, 01389, Mexico City, Mexico</h3>\n",
    "    </div>\n",
    "</font>"
   ]
  },
  {
   "cell_type": "markdown",
   "metadata": {},
   "source": [
    "***\n",
    "<font face=\"times new roman\" size=\"3\" color=\"black\">\n",
    "    <div align=\"justify\">\n",
    "        <h3>Abstract</h3>\n",
    "            <h3> Write your abstract here. Remember, this is about nutrition facts, obesity, ethics and you want to fit and validate a 4-dimensional linear model to the variable calories using the independent variables protein, carbohydrates and fat.</h3>\n",
    "    </div>\n",
    "</font>"
   ]
  },
  {
   "cell_type": "markdown",
   "metadata": {},
   "source": [
    "<font face=\"times new roman\" size=\"3\" color=\"black\">\n",
    "    <div align=\"justify\">\n",
    "        <h3><i>Keywords:</i>&nbsp; Keyword 1,&nbsp; Keyword 2,&nbsp; Keyword 3,&nbsp; Keyword 4,&nbsp; Keyword 5.</h3>\n",
    "    </div>\n",
    "</font>"
   ]
  },
  {
   "cell_type": "markdown",
   "metadata": {},
   "source": [
    "***\n",
    "<font face=\"times new roman\" size=\"3\" color=\"black\">\n",
    "    <div align=\"justify\">\n",
    "        <h4><i>Email adresses:</i> Axxxxxxxx@itesm.mx (Author 1), Axxxxxxxx@itesm.mx (Author 2), Axxxxxxxx@itesm.mx (Author 3), Axxxxxxxx@itesm.mx (Author 4), Axxxxxxxx@itesm.mx (Author 5).</h4>\n",
    "    </div>\n",
    "</font>"
   ]
  },
  {
   "cell_type": "markdown",
   "metadata": {},
   "source": [
    "***\n",
    "<font face=\"times new roman\" size=\"3\" color=\"black\">\n",
    "    <div align=\"justify\">\n",
    "        <h3>1. Introduction</h3>\n",
    "            <h3>&emsp;Write your introduction here. Remember, this is about nutrition facts, obesity, ethics and you want to fit a 4-dimensional linear model to the variable calories using the independent variables protein, carbohydrates and fat.</h3>\n",
    "    </div>\n",
    "</font>"
   ]
  },
  {
   "cell_type": "markdown",
   "metadata": {},
   "source": [
    "<font face=\"times new roman\" size=\"3\" color=\"black\">\n",
    "    <div align=\"justify\">\n",
    "        <h3>2. Theoretical framework</h3>\n",
    "            <h3>&emsp;Construct a theoretical framework. Remember, this is about nutrition facts, obesity, ethics and you want to fit a 4-dimensional linear model to the variable calories using the independent variables protein, carbohydrates and fat.</h3>\n",
    "    </div>\n",
    "</font>"
   ]
  },
  {
   "cell_type": "markdown",
   "metadata": {},
   "source": [
    "<font face=\"times new roman\" size=\"3\" color=\"black\">\n",
    "    <div align=\"justify\">\n",
    "        <h3><i>2.1 Subsection title</i></h3>\n",
    "        <h3>&emsp;In case you need a subsection.</h3>\n",
    "    </div>\n",
    "</font>"
   ]
  },
  {
   "cell_type": "markdown",
   "metadata": {},
   "source": [
    "<font face=\"times new roman\" size=\"3\" color=\"black\">\n",
    "    <div align=\"justify\">\n",
    "        <h3><i>2.1.1 Subsubsection title</i></h3>\n",
    "        <h3>&emsp;In case you need a subsubsection.</h3>\n",
    "    </div>\n",
    "</font>"
   ]
  },
  {
   "cell_type": "markdown",
   "metadata": {},
   "source": [
    "<font face=\"times new roman\" size=\"3\" color=\"black\">\n",
    "    <div align=\"justify\">\n",
    "        <h3>3. Analysis and results</h3>\n",
    "            <h3>&emsp;Your analysis begins here, comment every code line. Blue annotatios are just hints and you must rephrase them, change the names of the dataframes, otherwise you are going to lose points. Use black instead of blue. However, this is just a guide and if you wish to run some other commands, go ahead! </h3>\n",
    "    </div>\n",
    "</font>"
   ]
  },
  {
   "cell_type": "markdown",
   "metadata": {},
   "source": [
    "<font face=\"times new roman\" size=\"3\" color=\"blue\">\n",
    "    <div align=\"justify\">\n",
    "        <h3>Python imports and setup</h3>\n",
    "    </div>\n",
    "</font>"
   ]
  },
  {
   "cell_type": "code",
   "execution_count": null,
   "metadata": {},
   "outputs": [],
   "source": []
  },
  {
   "cell_type": "markdown",
   "metadata": {},
   "source": [
    "<font face=\"times new roman\" size=\"3\" color=\"blue\">\n",
    "    <div align=\"justify\">\n",
    "        <h3>The following dataset was downloaded from <a>https://www.kaggle.com</a>. Read the csv file nutrition.csv and give it a proper name.</h3>\n",
    "    </div>\n",
    "</font>"
   ]
  },
  {
   "cell_type": "code",
   "execution_count": null,
   "metadata": {},
   "outputs": [],
   "source": []
  },
  {
   "cell_type": "markdown",
   "metadata": {},
   "source": [
    "<font face=\"times new roman\" size=\"3\" color=\"blue\">\n",
    "    <div align=\"justify\">\n",
    "        <h3>Create a subsection called Data Exploration</h3>\n",
    "    </div>\n",
    "</font>"
   ]
  },
  {
   "cell_type": "markdown",
   "metadata": {},
   "source": [
    "<font face=\"times new roman\" size=\"3\" color=\"blue\">\n",
    "    <div align=\"justify\">\n",
    "        <h3>A profile report of the DataFrame can be obtained with profile_report() from pandas_profiling. Run the following two cells to install it, import it and obtain it.</h3>\n",
    "        <h4><font color=\"red\">Note: It takes a while to get the report, so be patient</font> 😉. (Emoji taken from <a>https://html-css-js.com/html/character-codes/</a>). <font color=\"red\">Don't use emojis in this document.</font></h4>\n",
    "    </div>\n",
    "</font>"
   ]
  },
  {
   "cell_type": "code",
   "execution_count": null,
   "metadata": {
    "scrolled": true
   },
   "outputs": [],
   "source": [
    "import sys\n",
    "!{sys.executable} -m pip install pandas-profiling\n",
    "import pandas_profiling"
   ]
  },
  {
   "cell_type": "code",
   "execution_count": null,
   "metadata": {},
   "outputs": [],
   "source": [
    "dataframe.profile_report()"
   ]
  },
  {
   "cell_type": "markdown",
   "metadata": {},
   "source": [
    "<font face=\"times new roman\" size=\"3\" color=\"blue\">\n",
    "    <div align=\"justify\">\n",
    "        <h3>What type of variables do you have?</h3>\n",
    "        <h3>How many variables do you have? (What is the dimension of the space from which you are sampling?)</h3>\n",
    "        <h3>Are there missing values? There are many techniques to fill missing values, but for this project we can just get rid of them. Rename your new dataframe.</h3>\n",
    "    </div>\n",
    "</font>"
   ]
  },
  {
   "cell_type": "code",
   "execution_count": null,
   "metadata": {},
   "outputs": [],
   "source": [
    "newname = dataframe[datafrme['column with null values'].notnull()]\n",
    "\n",
    "print('This data frame has {} rows and {} columns.'.format(newname.shape[0], newname.shape[1]))"
   ]
  },
  {
   "cell_type": "markdown",
   "metadata": {},
   "source": [
    "<font face=\"times new roman\" size=\"3\" color=\"blue\">\n",
    "    <div align=\"justify\">\n",
    "        <h3>Although we got a sample in the profile report, let's create a new sample and compare them.</h3>\n",
    "    </div>\n",
    "</font>"
   ]
  },
  {
   "cell_type": "code",
   "execution_count": null,
   "metadata": {},
   "outputs": [],
   "source": [
    "newname.sample(5, axis=0)"
   ]
  },
  {
   "cell_type": "markdown",
   "metadata": {},
   "source": [
    "<font face=\"times new roman\" size=\"3\" color=\"blue\">\n",
    "    <div align=\"justify\">\n",
    "        <h3>Extract the variables of interest. For the mathematical model we need calories, fat, protein and carbohydrates. Also extract the food and the serving size.</h3>\n",
    "    </div>\n",
    "</font>"
   ]
  },
  {
   "cell_type": "code",
   "execution_count": null,
   "metadata": {},
   "outputs": [],
   "source": [
    "newname2 = newname.loc[:, ['variable 1', 'variable 2','etc']]"
   ]
  },
  {
   "cell_type": "markdown",
   "metadata": {},
   "source": [
    "<font face=\"times new roman\" size=\"3\" color=\"blue\">\n",
    "    <div align=\"justify\">\n",
    "        <h3>Create a sample of size 5 to visualize the new dataframe.</h3>\n",
    "    </div>\n",
    "</font>"
   ]
  },
  {
   "cell_type": "code",
   "execution_count": null,
   "metadata": {
    "scrolled": true
   },
   "outputs": [],
   "source": [
    "newname2.sample(5, axis=0)"
   ]
  },
  {
   "cell_type": "markdown",
   "metadata": {},
   "source": [
    "<font face=\"times new roman\" size=\"3\" color=\"blue\">\n",
    "    <div align=\"justify\">\n",
    "        <h3>Give your columns new proper names.</h3>\n",
    "    </div>\n",
    "</font>"
   ]
  },
  {
   "cell_type": "code",
   "execution_count": null,
   "metadata": {},
   "outputs": [],
   "source": [
    "newname2.rename(columns={'variable 1': 'new variable 1', 'variable 2': 'new variable 2', 'etc': 'new etc'}, inplace=True)"
   ]
  },
  {
   "cell_type": "markdown",
   "metadata": {},
   "source": [
    "<font face=\"times new roman\" size=\"3\" color=\"blue\">\n",
    "    <div align=\"justify\">\n",
    "        <h3>Yet again create a sample of size 5 to visualize the new dataframe.</h3>\n",
    "    </div>\n",
    "</font>"
   ]
  },
  {
   "cell_type": "code",
   "execution_count": null,
   "metadata": {},
   "outputs": [],
   "source": [
    "newname2.sample(sample size)"
   ]
  },
  {
   "cell_type": "markdown",
   "metadata": {},
   "source": [
    "<font face=\"times new roman\" size=\"3\" color=\"blue\">\n",
    "    <div align=\"justify\">\n",
    "        <h3>Extract the information about one of the foods.</h3>\n",
    "    </div>\n",
    "</font>"
   ]
  },
  {
   "cell_type": "code",
   "execution_count": null,
   "metadata": {
    "scrolled": false
   },
   "outputs": [],
   "source": [
    "newname3 = newname2.select_dtypes(include=['object'])\n",
    "print(newname3.iloc[food index])"
   ]
  },
  {
   "cell_type": "markdown",
   "metadata": {},
   "source": [
    "<font face=\"times new roman\" size=\"3\" color=\"blue\">\n",
    "    <div align=\"justify\">\n",
    "        <h3>Some categorical variables should be numerical, so convert them. Also put everything in the same units of meaurement.</h3>\n",
    "    </div>\n",
    "</font>"
   ]
  },
  {
   "cell_type": "code",
   "execution_count": null,
   "metadata": {},
   "outputs": [],
   "source": [
    "newname2['variable 1'] = newname2['variable 1'].str.rstrip('g').astype('int64')\n",
    "newname2['variable 2'] = newname2['variable 2'].str.rstrip('g').astype('float')\n",
    "# etc"
   ]
  },
  {
   "cell_type": "markdown",
   "metadata": {},
   "source": [
    "<font face=\"times new roman\" size=\"3\" color=\"blue\">\n",
    "    <div align=\"justify\">\n",
    "        <h3>Rename the columns (if necessary) and print your new dataframe.</h3>\n",
    "    </div>\n",
    "</font>"
   ]
  },
  {
   "cell_type": "code",
   "execution_count": null,
   "metadata": {
    "scrolled": true
   },
   "outputs": [],
   "source": [
    "newname2.rename(columns={'variabe 1': 'new variable 1'}, inplace=True)\n",
    "df_cal"
   ]
  },
  {
   "cell_type": "markdown",
   "metadata": {},
   "source": [
    "<font face=\"times new roman\" size=\"3\" color=\"blue\">\n",
    "    <div align=\"justify\">\n",
    "        <h3>Check the variables' types.</h3>\n",
    "    </div>\n",
    "</font>"
   ]
  },
  {
   "cell_type": "code",
   "execution_count": null,
   "metadata": {
    "scrolled": false
   },
   "outputs": [],
   "source": [
    "print(\"Data types and their frequency\\n{}\".format(newname2.dtypes.value_counts()))"
   ]
  },
  {
   "cell_type": "markdown",
   "metadata": {},
   "source": [
    "<font face=\"times new roman\" size=\"3\" color=\"blue\">\n",
    "    <div align=\"justify\">\n",
    "        <h3>Create a subsection called Descriptive statistics</h3>\n",
    "    </div>\n",
    "</font>"
   ]
  },
  {
   "cell_type": "markdown",
   "metadata": {},
   "source": [
    "<font face=\"times new roman\" size=\"3\" color=\"blue\">\n",
    "    <div align=\"justify\">\n",
    "        <h3>Get the descriptive statistics.</h3>\n",
    "    </div>\n",
    "</font>"
   ]
  },
  {
   "cell_type": "code",
   "execution_count": null,
   "metadata": {},
   "outputs": [],
   "source": []
  },
  {
   "cell_type": "markdown",
   "metadata": {},
   "source": [
    "<font face=\"times new roman\" size=\"3\" color=\"blue\">\n",
    "    <div align=\"justify\">\n",
    "        <h3>Plot histograms of fat, sodium, protein, carbohydrates and calories.</h3>\n",
    "    </div>\n",
    "</font>"
   ]
  },
  {
   "cell_type": "code",
   "execution_count": null,
   "metadata": {},
   "outputs": [],
   "source": [
    "fig, axes = plt.subplots(3, 2, figsize=(20, 20), sharex=False)\n",
    "\n",
    "fig.suptitle('Give a proper title', y=0.9, fontsize=20)\n",
    "\n",
    "sns.distplot( newname2[\"variable 1\"] , hist_kws={'edgecolor':'black'}, kde=False, color=\"skyblue\", ax=axes[0, 0])\n",
    "sns.distplot( newname2[\"variable 2\"] , hist_kws={'edgecolor':'black'}, kde=False, color=\"olive\", ax=axes[0, 1])\n",
    "sns.distplot( newname2[\"variable 3\"] , hist_kws={'edgecolor':'black'}, kde=False, color=\"gold\", ax=axes[1, 0])\n",
    "sns.distplot( newname2[\"variable 4\"] , hist_kws={'edgecolor':'black'}, kde=False, color=\"teal\", ax=axes[1, 1])\n",
    "sns.distplot( newname2[\"variable 5\"] , hist_kws={'edgecolor':'black'}, kde=False, color=\"blue\", ax=axes[2, 0])\n",
    "fig.delaxes(axes[2,1])"
   ]
  },
  {
   "cell_type": "markdown",
   "metadata": {},
   "source": [
    "<font face=\"times new roman\" size=\"3\" color=\"blue\">\n",
    "    <div align=\"justify\">\n",
    "        <h3>Interpret.</h3>\n",
    "    </div>\n",
    "</font>"
   ]
  },
  {
   "cell_type": "markdown",
   "metadata": {},
   "source": [
    "<font face=\"times new roman\" size=\"3\" color=\"blue\">\n",
    "    <div align=\"justify\">\n",
    "        <h3>Plot Boxplots of fat, sodium, protein, carbohydrates and calories.</h3>\n",
    "    </div>\n",
    "</font>"
   ]
  },
  {
   "cell_type": "code",
   "execution_count": null,
   "metadata": {},
   "outputs": [],
   "source": [
    "f, axes = plt.subplots(nrows=3, ncols=2, figsize=(26,18));\n",
    "\n",
    "f.suptitle('Boxplots of Fat, Sodium, Protein, Carbohydrates and Calories', y=0.9, fontsize=20)\n",
    "sns.boxplot(x=df_cal['Fat(g)'], color=\"skyblue\", ax=axes[0, 0])\n",
    "sns.boxplot(x=df_cal['Sodium(g)'], color=\"olive\", ax=axes[0, 1])\n",
    "sns.boxplot(x=df_cal['Protein(g)'], color=\"gold\", ax=axes[1, 0])\n",
    "sns.boxplot(x=df_cal['Carbohydrates(g)'], color=\"teal\", ax=axes[1, 1])\n",
    "sns.boxplot(x=df_cal['Calories'], color=\"blue\", ax=axes[2, 0])\n",
    "\n",
    "f.delaxes(axes[2,1])"
   ]
  },
  {
   "cell_type": "markdown",
   "metadata": {},
   "source": [
    "<font face=\"times new roman\" size=\"3\" color=\"blue\">\n",
    "    <div align=\"justify\">\n",
    "        <h3>Interpret.</h3>\n",
    "    </div>\n",
    "</font>"
   ]
  },
  {
   "cell_type": "markdown",
   "metadata": {},
   "source": [
    "<font face=\"times new roman\" size=\"3\" color=\"blue\">\n",
    "    <div align=\"justify\">\n",
    "        <h3>Remove outliers.</h3>\n",
    "    </div>\n",
    "</font>"
   ]
  },
  {
   "cell_type": "code",
   "execution_count": null,
   "metadata": {},
   "outputs": [],
   "source": [
    "#Only removing extreme outliers\n",
    "Q1 = newname2.quantile(0.25)\n",
    "Q3 = newname2.quantile(???)\n",
    "IQR = Q3 - Q1\n",
    "\n",
    "newname3 = newname2[~((newname2 < (Q1 - 2.5 * IQR)) |(df_cal > (Q3 + 2.5 * IQR))).any(axis=1)]\n",
    "\n",
    "# -------------------------------------------------------------------------------------------------\n",
    "\n",
    "len_after = len(newname3)\n",
    "len_before = len(newname2)\n",
    "len_difference = len(newname2) - len(newname3)\n",
    "print('We reduced our data size from {} foods by {} foods to {} foods.'.format(len_before, len_difference, len_after))"
   ]
  },
  {
   "cell_type": "markdown",
   "metadata": {},
   "source": [
    "<font face=\"times new roman\" size=\"3\" color=\"blue\">\n",
    "    <div align=\"justify\">\n",
    "        <h3>Create a subsection for the mathematical model.</h3>\n",
    "    </div>\n",
    "</font>"
   ]
  },
  {
   "cell_type": "code",
   "execution_count": null,
   "metadata": {},
   "outputs": [],
   "source": [
    "from sklearn.linear_model import LinearRegression\n",
    "\n",
    "X = newname3[['Independent variable 1', 'Independent variable 2', 'Independent variable 3', 'Independent variable 4']] \n",
    "Y = newname3['Dependent variable']\n",
    "\n",
    "# with sklearn\n",
    "regressionname = LinearRegression()\n",
    "regressionname.fit(X, Y)\n",
    "\n",
    "print('Intercept: \\n', regressionname.intercept_)\n",
    "print('Coefficients: \\n', regressionname.coef_)\n"
   ]
  },
  {
   "cell_type": "markdown",
   "metadata": {},
   "source": [
    "<font face=\"times new roman\" size=\"3\" color=\"blue\">\n",
    "    <div align=\"justify\">\n",
    "        <h3>Validate your model with several foods (one per member of the team). You can use foods' nutritional facts from <a>https://www.nutritionvalue.org/</a>. For example, let's choose \"Restaurant, Arroz con frijoles negros (rice and black beans), Latino\"</h3>\n",
    "    </div>\n",
    "</font>\n",
    "<img src=\"NutFactsRiceBeans.png\" alt=\"Nutrition Facts\" style=\"display: block;margin-left:auto;margin-right: auto;width:30%;\"/>"
   ]
  },
  {
   "cell_type": "markdown",
   "metadata": {},
   "source": [
    "<font face=\"times new roman\" size=\"3\" color=\"blue\">\n",
    "    <div align=\"justify\">\n",
    "        <h3>Imput the values of the table in your model. How accurate is your model?</h3>\n",
    "    </div>\n",
    "</font>"
   ]
  },
  {
   "cell_type": "code",
   "execution_count": null,
   "metadata": {},
   "outputs": [],
   "source": [
    "fat = 3.9\n",
    "sod =0.42\n",
    "prot = 4.6\n",
    "carbo = 24\n",
    "print ('Number of calories: \\n', regressionname.predict([[fat, sod, prot, carbo]]))"
   ]
  },
  {
   "cell_type": "markdown",
   "metadata": {},
   "source": [
    "***\n",
    "<font face=\"times new roman\" size=\"3\" color=\"black\">\n",
    "    <div align=\"justify\">\n",
    "        <h3>4. Conclusions</h3>\n",
    "            <h3>&emsp;Write a conclusion adressing the predictions and the value provided by the nutrition facts. Talk about the errors and the limits of a mathematical model. Elaborate with some social issues like obesity, vegan food, vegetarians, meat eaters, etc.</h3>\n",
    "    </div>\n",
    "</font>"
   ]
  },
  {
   "cell_type": "markdown",
   "metadata": {},
   "source": [
    "<font face=\"times new roman\" size=\"3\" color=\"black\">\n",
    "    <div align=\"justify\">\n",
    "        <h3>Acknowledgements. The authors would like to acknowledge...</h3>\n",
    "    </div>\n",
    "</font>"
   ]
  },
  {
   "cell_type": "markdown",
   "metadata": {},
   "source": [
    "<font face=\"times new roman\" size=\"3\" color=\"black\">\n",
    "    <div align=\"justify\">\n",
    "        <h3>References</h3>\n",
    "        <h3>Your references in APA format, for example:</h3>\n",
    "        <h3>Keller, S. B., Landry, M., Olson, J., Velliquette, A. M., Burton, S., & Andrews, J. C. (1997). The effects of nutrition package claims, nutrition facts panels, and motivation to process nutrition information on consumer product evaluations. Journal of Public Policy & Marketing, 16(2), 256-269.</h3>\n",
    "    </div>\n",
    "</font>"
   ]
  },
  {
   "cell_type": "markdown",
   "metadata": {},
   "source": [
    "<font face=\"times new roman\" size=\"3\" color=\"black\">\n",
    "    <div align=\"justify\">\n",
    "        <h3>Biographies</h3>\n",
    "        <h3>Provide a brief biography of all authors.</h3>\n",
    "    </div>\n",
    "</font>"
   ]
  }
 ],
 "metadata": {
  "kernelspec": {
   "display_name": "Python 3",
   "language": "python",
   "name": "python3"
  },
  "language_info": {
   "codemirror_mode": {
    "name": "ipython",
    "version": 3
   },
   "file_extension": ".py",
   "mimetype": "text/x-python",
   "name": "python",
   "nbconvert_exporter": "python",
   "pygments_lexer": "ipython3",
   "version": "3.7.2"
  }
 },
 "nbformat": 4,
 "nbformat_minor": 2
}
